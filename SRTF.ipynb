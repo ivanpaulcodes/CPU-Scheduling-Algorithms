{
  "nbformat": 4,
  "nbformat_minor": 0,
  "metadata": {
    "colab": {
      "provenance": [],
      "gpuType": "T4",
      "authorship_tag": "ABX9TyMoxIvF7V+vsM7tEK7cLSZh",
      "include_colab_link": true
    },
    "kernelspec": {
      "name": "python3",
      "display_name": "Python 3"
    },
    "language_info": {
      "name": "python"
    },
    "accelerator": "GPU"
  },
  "cells": [
    {
      "cell_type": "markdown",
      "metadata": {
        "id": "view-in-github",
        "colab_type": "text"
      },
      "source": [
        "<a href=\"https://colab.research.google.com/github/ivanpaulcodes/CPU-Scheduling-Algorithms/blob/main/SRTF.ipynb\" target=\"_parent\"><img src=\"https://colab.research.google.com/assets/colab-badge.svg\" alt=\"Open In Colab\"/></a>"
      ]
    },
    {
      "cell_type": "code",
      "execution_count": 1,
      "metadata": {
        "colab": {
          "base_uri": "https://localhost:8080/",
          "height": 1000
        },
        "id": "34Rkvh-2Hk74",
        "outputId": "319f3c30-dfc0-4c60-f5d5-9459436c8862"
      },
      "outputs": [
        {
          "name": "stdout",
          "output_type": "stream",
          "text": [
            "Enter the number of processes: 6\n",
            "Enter process ID for process #1: P1\n",
            "Enter arrival time for process P1: 2\n",
            "Enter burst time for process P1: 4\n",
            "Enter process ID for process #2: P2\n",
            "Enter arrival time for process P2: 1\n",
            "Enter burst time for process P2: 8\n",
            "Enter process ID for process #3: P3\n",
            "Enter arrival time for process P3: 2\n",
            "Enter burst time for process P3: 4\n",
            "Enter process ID for process #4: P4\n",
            "Enter arrival time for process P4: 3\n",
            "Enter burst time for process P4: 4\n",
            "Enter process ID for process #5: P5\n",
            "Enter arrival time for process P5: 0\n",
            "Enter burst time for process P5: 9\n",
            "Enter process ID for process #6: P6\n",
            "Enter arrival time for process P6: 2\n",
            "Enter burst time for process P6: 6\n"
          ]
        },
        {
          "output_type": "display_data",
          "data": {
            "text/plain": [
              "<Figure size 1000x600 with 1 Axes>"
            ],
            "image/png": "[encoded data removed]"
          },
          "metadata": {}
        },
        {
          "output_type": "stream",
          "name": "stdout",
          "text": [
            "  Process  AT  BT  Start_time  End_time  TAT  WT  RT\n",
            "0      P5   0   9           0        27   27  18   0\n",
            "1      P2   1   8          27        35   34  26  26\n",
            "2      P1   2   4           2         6    4   0   0\n",
            "3      P3   2   4           6        10    8   4   4\n",
            "4      P6   2   6          14        20   18  12  12\n",
            "5      P4   3   4          10        14   11   7   7\n",
            "Average TAT: 17.0\n",
            "Average WT: 11.166666666666666\n",
            "Average RT: 8.166666666666666\n"
          ]
        }
      ],
      "source": [
        "import pandas as pd\n",
        "import matplotlib.pyplot as plt\n",
        "from matplotlib.patches import Rectangle\n",
        "\n",
        "# Function to request process information from the user\n",
        "def get_process_info():\n",
        "    num_processes = int(input(\"Enter the number of processes: \"))\n",
        "    processes = []\n",
        "    arrival_times = []\n",
        "    burst_times = []\n",
        "\n",
        "    for i in range(num_processes):\n",
        "        process_id = input(f\"Enter process ID for process #{i+1}: \")\n",
        "        at = int(input(f\"Enter arrival time for process {process_id}: \"))\n",
        "        bt = int(input(f\"Enter burst time for process {process_id}: \"))\n",
        "        processes.append(process_id)\n",
        "        arrival_times.append(at)\n",
        "        burst_times.append(bt)\n",
        "\n",
        "    return processes, arrival_times, burst_times\n",
        "\n",
        "# Call the function to get user input\n",
        "processes, arrival_times, burst_times = get_process_info()\n",
        "\n",
        "# Combine the processes, arrival_times, and burst_times into a DataFrame\n",
        "df = pd.DataFrame({\n",
        "    'Process': processes,\n",
        "    'AT': arrival_times,\n",
        "    'BT': burst_times,\n",
        "    'Remaining_BT': burst_times\n",
        "})\n",
        "\n",
        "# Sort by arrival time for initial order\n",
        "df_sorted = df.sort_values(by=['AT', 'Process']).reset_index(drop=True)\n",
        "\n",
        "# Initializing other columns for the DataFrame\n",
        "df_sorted['Start_time'] = -1\n",
        "df_sorted['End_time'] = -1\n",
        "df_sorted['Completed'] = False\n",
        "\n",
        "# SRTF scheduling algorithm\n",
        "current_time = 0\n",
        "start_times = []\n",
        "end_times = []\n",
        "while not df_sorted['Completed'].all():\n",
        "    # Filter processes that have arrived and are not completed\n",
        "    available_processes = df_sorted[(df_sorted['AT'] <= current_time) & (~df_sorted['Completed'])]\n",
        "\n",
        "    if available_processes.empty:\n",
        "        # No process is available to run; move forward in time\n",
        "        current_time += 1\n",
        "        continue\n",
        "\n",
        "    # Select process with minimum remaining burst time\n",
        "    current_process_idx = available_processes['Remaining_BT'].idxmin()\n",
        "    current_process = df_sorted.loc[current_process_idx]\n",
        "\n",
        "    # If the process is starting for the first time, set the start time\n",
        "    if current_process['Start_time'] == -1:\n",
        "        df_sorted.at[current_process_idx, 'Start_time'] = current_time\n",
        "\n",
        "    # Execute the current process for one unit of time\n",
        "    df_sorted.at[current_process_idx, 'Remaining_BT'] -= 1\n",
        "    current_time += 1\n",
        "\n",
        "    # If the process is completed, set the end time and mark as completed\n",
        "    if df_sorted.at[current_process_idx, 'Remaining_BT'] == 0:\n",
        "        df_sorted.at[current_process_idx, 'End_time'] = current_time\n",
        "        df_sorted.at[current_process_idx, 'Completed'] = True\n",
        "        start_times.append(df_sorted.at[current_process_idx, 'Start_time'])\n",
        "        end_times.append(current_time)\n",
        "\n",
        "# Calculating TAT, WT, and RT\n",
        "df_sorted['TAT'] = df_sorted['End_time'] - df_sorted['AT']\n",
        "df_sorted['WT'] = df_sorted['TAT'] - df_sorted['BT']\n",
        "df_sorted['RT'] = df_sorted['Start_time'] - df_sorted['AT']\n",
        "\n",
        "# Create a Gantt chart\n",
        "fig, gnt = plt.subplots(figsize=(10, 6))\n",
        "\n",
        "# Setting Y-axis limits\n",
        "gnt.set_ylim(0, 50)\n",
        "\n",
        "# Setting X-axis limits\n",
        "gnt.set_xlim(0, df_sorted['End_time'].max() + 1)\n",
        "\n",
        "# Setting labels for x-axis and y-axis\n",
        "gnt.set_xlabel('Time units')\n",
        "gnt.set_ylabel('Processes')\n",
        "\n",
        "# Setting ticks on y-axis\n",
        "gnt.set_yticks([15 * (i + 1) for i in range(len(df_sorted))])\n",
        "gnt.set_yticklabels(df_sorted['Process'])\n",
        "\n",
        "# Setting graph attribute\n",
        "gnt.grid(True)\n",
        "\n",
        "# Adding bars for Gantt chart\n",
        "for i, (start, end) in enumerate(zip(start_times, end_times)):\n",
        "    gnt.add_patch(Rectangle((start, 15 * (i + 0.5)), end - start, 10, facecolor='skyblue'))\n",
        "\n",
        "# Inverting the y-axis to have the first process at the top\n",
        "plt.gca().invert_yaxis()\n",
        "\n",
        "# Display the Gantt chart\n",
        "plt.show()\n",
        "\n",
        "# Print the DataFrame\n",
        "print(df_sorted[['Process', 'AT', 'BT', 'Start_time', 'End_time', 'TAT', 'WT', 'RT']])\n",
        "\n",
        "# Print average TAT and WT\n",
        "print('Average TAT:', df_sorted['TAT'].mean())\n",
        "print('Average WT:', df_sorted['WT'].mean())\n",
        "print('Average RT:', df_sorted['RT'].mean())\n"
      ]
    }
  ]
}