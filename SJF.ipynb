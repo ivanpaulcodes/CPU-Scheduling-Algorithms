{
  "nbformat": 4,
  "nbformat_minor": 0,
  "metadata": {
    "colab": {
      "provenance": [],
      "gpuType": "T4",
      "authorship_tag": "ABX9TyNoHGjkACE3HMxdV87W7lZ1",
      "include_colab_link": true
    },
    "kernelspec": {
      "name": "python3",
      "display_name": "Python 3"
    },
    "language_info": {
      "name": "python"
    },
    "accelerator": "GPU"
  },
  "cells": [
    {
      "cell_type": "markdown",
      "metadata": {
        "id": "view-in-github",
        "colab_type": "text"
      },
      "source": [
        "<a href=\"https://colab.research.google.com/github/ivanpaulcodes/CPU-Scheduling-Algorithms/blob/main/SJF.ipynb\" target=\"_parent\"><img src=\"https://colab.research.google.com/assets/colab-badge.svg\" alt=\"Open In Colab\"/></a>"
      ]
    },
    {
      "cell_type": "code",
      "execution_count": 1,
      "metadata": {
        "colab": {
          "base_uri": "https://localhost:8080/",
          "height": 703
        },
        "id": "GX71o5mdFNpZ",
        "outputId": "d191ae38-b1d5-4e5e-b5da-37bb2b39be3d"
      },
      "outputs": [
        {
          "output_type": "display_data",
          "data": {
            "text/plain": [
              "<Figure size 1000x600 with 1 Axes>"
            ],
            "image/png": "[encoded data removed]"
          },
          "metadata": {}
        },
        {
          "output_type": "stream",
          "name": "stdout",
          "text": [
            "  Process  AT  BT  CT  TAT  WT  RT\n",
            "0      P5   0   9   9    9   0   0\n",
            "1      P2   1   8  17   16   8   8\n",
            "2      P1   2   4  21   19  15  15\n",
            "3      P3   2   4  25   23  19  19\n",
            "4      P6   2   6  31   29  23  23\n",
            "5      P4   3   4  35   32  28  28\n",
            "Average TAT: 21.333333333333332\n",
            "Average WT: 15.5\n"
          ]
        }
      ],
      "source": [
        "import pandas as pd\n",
        "import matplotlib.pyplot as plt\n",
        "from matplotlib.patches import Rectangle\n",
        "\n",
        "# Data from the user's process list\n",
        "processes = ['P1', 'P2', 'P3', 'P4', 'P5', 'P6']\n",
        "arrival_times = [2, 1, 2, 3, 0, 2]\n",
        "burst_times = [4, 8, 4, 4, 9, 6]\n",
        "\n",
        "# Combine the processes, arrival_times, and burst_times into a DataFrame\n",
        "df = pd.DataFrame({\n",
        "    'Process': processes,\n",
        "    'AT': arrival_times,\n",
        "    'BT': burst_times\n",
        "})\n",
        "\n",
        "# Sort by arrival time and then by burst time for SJF\n",
        "df_sorted = df.sort_values(by=['AT', 'BT', 'Process']).reset_index(drop=True)\n",
        "\n",
        "# Initialize columns for completion time, turn-around time, and waiting time\n",
        "df_sorted['CT'] = 0\n",
        "df_sorted['TAT'] = 0\n",
        "df_sorted['WT'] = 0\n",
        "df_sorted['RT'] = -1  # Initialize response time as -1 (not started)\n",
        "\n",
        "# Initialize current time and start times list for Gantt chart\n",
        "current_time = 0\n",
        "start_times = []\n",
        "\n",
        "# SJF scheduling algorithm\n",
        "for i in range(len(df_sorted)):\n",
        "    row = df_sorted.iloc[i]\n",
        "    if current_time < row['AT']:\n",
        "        current_time = row['AT']\n",
        "    if df_sorted.loc[i, 'RT'] == -1:  # If the process has not started yet\n",
        "        df_sorted.loc[i, 'RT'] = current_time - row['AT']\n",
        "    start_times.append(current_time)\n",
        "    current_time += row['BT']\n",
        "    df_sorted.loc[i, 'CT'] = current_time\n",
        "    df_sorted.loc[i, 'TAT'] = current_time - row['AT']\n",
        "    df_sorted.loc[i, 'WT'] = df_sorted.loc[i, 'TAT'] - row['BT']\n",
        "\n",
        "# Create a Gantt chart\n",
        "fig, gnt = plt.subplots(figsize=(10, 6))\n",
        "\n",
        "# Setting Y-axis limits\n",
        "gnt.set_ylim(0, 50)\n",
        "\n",
        "# Setting X-axis limits\n",
        "gnt.set_xlim(0, df_sorted['CT'].max() + 1)\n",
        "\n",
        "# Setting labels for x-axis and y-axis\n",
        "gnt.set_xlabel('Time units')\n",
        "gnt.set_ylabel('Processes')\n",
        "\n",
        "# Setting ticks on y-axis\n",
        "gnt.set_yticks([15 * (i + 1) for i in range(len(df_sorted))])\n",
        "gnt.set_yticklabels(df_sorted['Process'])\n",
        "\n",
        "# Setting graph attribute\n",
        "gnt.grid(True)\n",
        "\n",
        "# Adding bars for Gantt chart\n",
        "for i in range(len(df_sorted)):\n",
        "    gnt.add_patch(Rectangle((start_times[i], 15 * (i + 0.5)), df_sorted['BT'][i], 10, facecolor='orange'))\n",
        "\n",
        "# Inverting the y-axis to have the first process at the top\n",
        "plt.gca().invert_yaxis()\n",
        "\n",
        "# Display the Gantt chart\n",
        "plt.show()\n",
        "\n",
        "# Print the DataFrame\n",
        "print(df_sorted)\n",
        "\n",
        "# Print average TAT and WT\n",
        "print('Average TAT:', df_sorted['TAT'].mean())\n",
        "print('Average WT:', df_sorted['WT'].mean())\n"
      ]
    }
  ]
}